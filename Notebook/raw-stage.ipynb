{
 "cells": [
  {
   "cell_type": "code",
   "execution_count": null,
   "id": "dbf68404",
   "metadata": {},
   "outputs": [],
   "source": [
    "import boto3\n",
    "from datetime import datetime, timezone\n",
    "import botocore\n",
    "import os\n",
    "import time\n",
    "from pprint import pp\n",
    "import json\n",
    "import re\n",
    "\n",
    "while True:\n",
    "    today = datetime.now(timezone.utc)\n",
    "    def get_last_modified(obj): return int(obj['LastModified'].strftime('%s'))\n",
    "\n",
    "    s3 = boto3.client('s3')\n",
    "    objs = s3.list_objects_v2(Bucket='raw-sprint-3')['Contents']\n",
    "    last_added = [obj['Key']\n",
    "                  for obj in sorted(objs, key=get_last_modified)][-1]\n",
    "    BUCKET_NAME = 'raw-sprint-3'  # replace with your bucket name\n",
    "    KEY = last_added  # replace with your object key\n",
    "    s3 = boto3.resource('s3')\n",
    "    try:\n",
    "        s3.Bucket(BUCKET_NAME).download_file(KEY, last_added)\n",
    "    except botocore.exceptions.ClientError as e:\n",
    "        if e.response['Error']['Code'] == \"404\":\n",
    "            print(\"The object does not exist.\")\n",
    "        else:\n",
    "            raise\n",
    "    with open(last_added, \"r\") as f:\n",
    "        file_content = f.read()\n",
    "    regex = re.findall(r'\"Body\":.*?{[^{}]+}', file_content)\n",
    "\n",
    "    json_data = []\n",
    "    for line in regex:\n",
    "        json_data.append(json.loads(line[7:]))\n",
    "\n",
    "    with open(last_added, \"w\") as f:\n",
    "        f.write(json.dumps(json_data))\n",
    "    s3.meta.client.upload_file(last_added, 'stagged-sprint-3', last_added)\n",
    "    os.remove(last_added)\n",
    "\n",
    "    time.sleep(15)\n"
   ]
  },
  {
   "cell_type": "code",
   "execution_count": null,
   "id": "cd4297cd",
   "metadata": {},
   "outputs": [],
   "source": []
  }
 ],
 "metadata": {
  "kernelspec": {
   "display_name": "Python 3 (ipykernel)",
   "language": "python",
   "name": "python3"
  },
  "language_info": {
   "codemirror_mode": {
    "name": "ipython",
    "version": 3
   },
   "file_extension": ".py",
   "mimetype": "text/x-python",
   "name": "python",
   "nbconvert_exporter": "python",
   "pygments_lexer": "ipython3",
   "version": "3.10.6"
  }
 },
 "nbformat": 4,
 "nbformat_minor": 5
}
