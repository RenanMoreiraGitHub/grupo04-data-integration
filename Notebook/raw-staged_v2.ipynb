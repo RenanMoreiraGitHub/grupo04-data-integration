{
 "cells": [
  {
   "cell_type": "code",
   "execution_count": null,
   "metadata": {},
   "outputs": [],
   "source": [
    "BUCKET = 'raw-sprint-3'"
   ]
  },
  {
   "cell_type": "code",
   "execution_count": null,
   "metadata": {},
   "outputs": [],
   "source": [
    "import boto3\n",
    "\n",
    "def get_recent_file(bucket_name):\n",
    "    s3 = boto3.client('s3')\n",
    "    arquivos = s3.list_objects_v2(Bucket=bucket_name)['Contents']\n",
    "    \n",
    "    return max(arquivos, key=lambda x: x['LastModified'])['Key']\n"
   ]
  },
  {
   "cell_type": "code",
   "execution_count": null,
   "metadata": {},
   "outputs": [],
   "source": [
    "last_filie = get_recent_file(BUCKET)\n",
    "s3 = boto3.resource('s3')\n",
    "try:\n",
    "    s3.Bucket(BUCKET).download_file(last_filie, last_filie)\n",
    "except:\n",
    "    raise \"ERROR GETTING OBJECT.\""
   ]
  },
  {
   "cell_type": "code",
   "execution_count": null,
   "metadata": {},
   "outputs": [],
   "source": [
    "last_filie='8f7f485f-601e-0048-1b4c-9aa23006697e.json'\n",
    "with open(f'./{last_filie}', \"r\") as f:\n",
    "    file_content = f.read()"
   ]
  },
  {
   "cell_type": "code",
   "execution_count": null,
   "metadata": {},
   "outputs": [],
   "source": [
    "import re\n",
    "\n",
    "regex = re.findall(r'\"Body\":.*?{[^{}]+}', file_content)\n",
    "data = []\n",
    "for line in regex:\n",
    "    data.append(line.replace('\"Body\":',''))"
   ]
  },
  {
   "cell_type": "code",
   "execution_count": null,
   "metadata": {},
   "outputs": [],
   "source": [
    "from pyspark.sql import SparkSession\n",
    "spark = SparkSession.builder.appName('raw_stage')\\\n",
    "        .config(\"spark.sql.files.ignoreCorruptFiles\", \"true\")\\\n",
    "        .config(\"spark.hadoop.fs.s3a.impl\", \"org.apache.hadoop.fs.s3a.S3AFileSystem\") \\\n",
    "        .enableHiveSupport()\\\n",
    "        .getOrCreate()"
   ]
  },
  {
   "cell_type": "code",
   "execution_count": null,
   "metadata": {},
   "outputs": [],
   "source": [
    "from pyspark.sql.types import StructType, StructField, StringType, IntegerType, DoubleType,DateType\n",
    "from pyspark.sql.functions import from_json\n",
    "import pyspark.sql.functions as sf\n",
    "from datetime import datetime\n",
    "\n",
    "schema = StructType([StructField(\"N\", IntegerType(), nullable=True),\n",
    "                        StructField(\"P\", IntegerType(), nullable=True),\n",
    "                        StructField(\"K\", IntegerType(), nullable=True),\n",
    "                        StructField(\"temp\", DoubleType(), nullable=True),\n",
    "                        StructField(\"humi\", DoubleType(), nullable=True),\n",
    "                        StructField(\"var\", DoubleType(), nullable=True),\n",
    "                        StructField(\"press\", DoubleType(), nullable=True),\n",
    "                        StructField(\"caps\", IntegerType(), nullable=True),\n",
    "                        StructField(\"qtdg\", IntegerType(), nullable=True),\n",
    "                        StructField(\"umig\", DoubleType(), nullable=True),\n",
    "                        StructField(\"batery\", DoubleType(), nullable=True),\n",
    "                        StructField(\"tema\", StringType(), nullable=True)])\n",
    "\n",
    "df = spark.createDataFrame(data, StringType())\n",
    "df = df.select(from_json(df.value, schema).alias(\"data\")).select(\"data.*\")\n",
    "df = df.withColumn(\"date\", sf.lit(datetime.now().date()).cast(DateType()))"
   ]
  },
  {
   "cell_type": "code",
   "execution_count": null,
   "metadata": {},
   "outputs": [],
   "source": [
    "print(df)\n",
    "df.show()"
   ]
  },
  {
   "cell_type": "code",
   "execution_count": null,
   "metadata": {},
   "outputs": [],
   "source": [
    "last_filie = last_filie.replace(\".json\", \"\")\n",
    "df.write.csv(f\"data-stagged/{last_filie}.csv\", header=True, mode=\"overwrite\")"
   ]
  }
 ],
 "metadata": {
  "language_info": {
   "name": "python"
  },
  "orig_nbformat": 4
 },
 "nbformat": 4,
 "nbformat_minor": 2
}
